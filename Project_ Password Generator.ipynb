{
 "cells": [
  {
   "cell_type": "markdown",
   "id": "3c793f6f",
   "metadata": {},
   "source": [
    "# Project: Password Generator"
   ]
  },
  {
   "cell_type": "code",
   "execution_count": null,
   "id": "533394e3",
   "metadata": {},
   "outputs": [
    {
     "name": "stdout",
     "output_type": "stream",
     "text": [
      "Welcome to the Password Generator!\n",
      "----------------------------------\n"
     ]
    }
   ],
   "source": [
    "import random\n",
    "import string\n",
    "\n",
    "def generate_password(length=12):\n",
    "    # Define character sets\n",
    "    uppercase_letters = string.ascii_uppercase\n",
    "    lowercase_letters = string.ascii_lowercase\n",
    "    digits = string.digits\n",
    "    special_characters = string.punctuation\n",
    "\n",
    "    # Combine character sets\n",
    "    all_characters = uppercase_letters + lowercase_letters + digits + special_characters\n",
    "\n",
    "    # Generate password\n",
    "    password = ''.join(random.choice(all_characters) for _ in range(length))\n",
    "    return password\n",
    "\n",
    "def main():\n",
    "    print(\"Welcome to the Password Generator!\")\n",
    "    print(\"----------------------------------\")\n",
    "    try:\n",
    "        num_passwords = int(input(\"How many passwords would you like to generate? \"))\n",
    "        password_length = int(input(\"Enter the length of each password: \"))\n",
    "\n",
    "        for i in range(num_passwords):\n",
    "            password = generate_password(password_length)\n",
    "            print(f\"Password {i+1}: {password}\")\n",
    "    except ValueError:\n",
    "        print(\"Please enter valid numerical inputs.\")\n",
    "\n",
    "if __name__ == \"__main__\":\n",
    "    main()\n"
   ]
  },
  {
   "cell_type": "code",
   "execution_count": null,
   "id": "675437b4",
   "metadata": {},
   "outputs": [],
   "source": []
  }
 ],
 "metadata": {
  "kernelspec": {
   "display_name": "Python 3 (ipykernel)",
   "language": "python",
   "name": "python3"
  },
  "language_info": {
   "codemirror_mode": {
    "name": "ipython",
    "version": 3
   },
   "file_extension": ".py",
   "mimetype": "text/x-python",
   "name": "python",
   "nbconvert_exporter": "python",
   "pygments_lexer": "ipython3",
   "version": "3.9.7"
  }
 },
 "nbformat": 4,
 "nbformat_minor": 5
}
